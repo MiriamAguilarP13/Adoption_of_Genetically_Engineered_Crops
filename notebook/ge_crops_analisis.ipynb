{
 "cells": [
  {
   "cell_type": "code",
   "execution_count": 1,
   "metadata": {},
   "outputs": [],
   "source": [
    "import pandas as pd\n",
    "import numpy as np\n",
    "from matplotlib import pyplot as plt\n",
    "import seaborn as sns\n",
    "import plotly.express as px"
   ]
  },
  {
   "cell_type": "code",
   "execution_count": 2,
   "metadata": {},
   "outputs": [],
   "source": [
    "# se guarda el dataset\n",
    "df_crops = pd.read_csv('files/datasets/output/a01_dataset_ge_crops_cleaned.csv')\n"
   ]
  },
  {
   "cell_type": "code",
   "execution_count": 17,
   "metadata": {},
   "outputs": [
    {
     "data": {
      "text/html": [
       "<div>\n",
       "<style scoped>\n",
       "    .dataframe tbody tr th:only-of-type {\n",
       "        vertical-align: middle;\n",
       "    }\n",
       "\n",
       "    .dataframe tbody tr th {\n",
       "        vertical-align: top;\n",
       "    }\n",
       "\n",
       "    .dataframe thead th {\n",
       "        text-align: right;\n",
       "    }\n",
       "</style>\n",
       "<table border=\"1\" class=\"dataframe\">\n",
       "  <thead>\n",
       "    <tr style=\"text-align: right;\">\n",
       "      <th></th>\n",
       "      <th>variety</th>\n",
       "      <th>state</th>\n",
       "      <th>year</th>\n",
       "      <th>pct_(%)</th>\n",
       "      <th>crop</th>\n",
       "    </tr>\n",
       "  </thead>\n",
       "  <tbody>\n",
       "    <tr>\n",
       "      <th>0</th>\n",
       "      <td>Insect-resistant (Bt)</td>\n",
       "      <td>Illinois</td>\n",
       "      <td>2000-01-01</td>\n",
       "      <td>13.0</td>\n",
       "      <td>corn</td>\n",
       "    </tr>\n",
       "    <tr>\n",
       "      <th>1</th>\n",
       "      <td>Insect-resistant (Bt)</td>\n",
       "      <td>Illinois</td>\n",
       "      <td>2001-01-01</td>\n",
       "      <td>12.0</td>\n",
       "      <td>corn</td>\n",
       "    </tr>\n",
       "    <tr>\n",
       "      <th>2</th>\n",
       "      <td>Insect-resistant (Bt)</td>\n",
       "      <td>Illinois</td>\n",
       "      <td>2002-01-01</td>\n",
       "      <td>18.0</td>\n",
       "      <td>corn</td>\n",
       "    </tr>\n",
       "    <tr>\n",
       "      <th>3</th>\n",
       "      <td>Insect-resistant (Bt)</td>\n",
       "      <td>Illinois</td>\n",
       "      <td>2003-01-01</td>\n",
       "      <td>23.0</td>\n",
       "      <td>corn</td>\n",
       "    </tr>\n",
       "    <tr>\n",
       "      <th>4</th>\n",
       "      <td>Insect-resistant (Bt)</td>\n",
       "      <td>Illinois</td>\n",
       "      <td>2004-01-01</td>\n",
       "      <td>26.0</td>\n",
       "      <td>corn</td>\n",
       "    </tr>\n",
       "  </tbody>\n",
       "</table>\n",
       "</div>"
      ],
      "text/plain": [
       "                 variety     state       year  pct_(%)  crop\n",
       "0  Insect-resistant (Bt)  Illinois 2000-01-01     13.0  corn\n",
       "1  Insect-resistant (Bt)  Illinois 2001-01-01     12.0  corn\n",
       "2  Insect-resistant (Bt)  Illinois 2002-01-01     18.0  corn\n",
       "3  Insect-resistant (Bt)  Illinois 2003-01-01     23.0  corn\n",
       "4  Insect-resistant (Bt)  Illinois 2004-01-01     26.0  corn"
      ]
     },
     "execution_count": 17,
     "metadata": {},
     "output_type": "execute_result"
    }
   ],
   "source": [
    "# se imprimen las primeras 5 filas del DataFrame\n",
    "df_crops.head()"
   ]
  },
  {
   "cell_type": "code",
   "execution_count": 4,
   "metadata": {},
   "outputs": [
    {
     "name": "stdout",
     "output_type": "stream",
     "text": [
      "<class 'pandas.core.frame.DataFrame'>\n",
      "RangeIndex: 3360 entries, 0 to 3359\n",
      "Data columns (total 5 columns):\n",
      " #   Column   Non-Null Count  Dtype  \n",
      "---  ------   --------------  -----  \n",
      " 0   variety  3360 non-null   object \n",
      " 1   state    3360 non-null   object \n",
      " 2   year     3360 non-null   int64  \n",
      " 3   pct_(%)  3260 non-null   float64\n",
      " 4   crop     3360 non-null   object \n",
      "dtypes: float64(1), int64(1), object(3)\n",
      "memory usage: 131.4+ KB\n"
     ]
    }
   ],
   "source": [
    "# se imprimen la información del DataFrame\n",
    "df_crops.info()"
   ]
  },
  {
   "cell_type": "code",
   "execution_count": 8,
   "metadata": {},
   "outputs": [],
   "source": [
    "# convertir 'year' a tipo fecha\n",
    "df_crops['year'] = pd.to_datetime(df_crops['year'], format='%Y')"
   ]
  },
  {
   "cell_type": "code",
   "execution_count": 10,
   "metadata": {},
   "outputs": [
    {
     "name": "stdout",
     "output_type": "stream",
     "text": [
      "Estadísticas descriptivas del cultivo total sembrado de maíz:\n"
     ]
    },
    {
     "data": {
      "text/plain": [
       "count    1400.000000\n",
       "mean       37.898571\n",
       "std        33.481344\n",
       "min         0.000000\n",
       "25%         9.000000\n",
       "50%        23.000000\n",
       "75%        76.000000\n",
       "max        98.000000\n",
       "Name: pct_(%), dtype: float64"
      ]
     },
     "execution_count": 10,
     "metadata": {},
     "output_type": "execute_result"
    }
   ],
   "source": [
    "# Estadísticas descriptivas de del porcentaje sembrado del total del maíz\n",
    "print(\"Estadísticas descriptivas del cultivo total sembrado de maíz:\")\n",
    "df_crops[df_crops['crop'] == 'corn']['pct_(%)'].describe()"
   ]
  },
  {
   "cell_type": "code",
   "execution_count": 11,
   "metadata": {},
   "outputs": [
    {
     "name": "stdout",
     "output_type": "stream",
     "text": [
      "Estadísticas descriptivas del cultivo total sembrado de algodón:\n"
     ]
    },
    {
     "data": {
      "text/plain": [
       "count    1092.000000\n",
       "mean       45.540293\n",
       "std        37.144418\n",
       "min         0.000000\n",
       "25%        10.000000\n",
       "50%        32.000000\n",
       "75%        88.000000\n",
       "max       100.000000\n",
       "Name: pct_(%), dtype: float64"
      ]
     },
     "execution_count": 11,
     "metadata": {},
     "output_type": "execute_result"
    }
   ],
   "source": [
    "print(\"Estadísticas descriptivas del cultivo total sembrado de algodón:\")\n",
    "df_crops[df_crops['crop'] == 'cotton']['pct_(%)'].describe()"
   ]
  },
  {
   "cell_type": "code",
   "execution_count": 13,
   "metadata": {},
   "outputs": [
    {
     "name": "stdout",
     "output_type": "stream",
     "text": [
      "Estadísticas descriptivas del cultivo total sembrado de soya:\n"
     ]
    },
    {
     "data": {
      "text/plain": [
       "count    768.000000\n",
       "mean      88.768229\n",
       "std       11.034895\n",
       "min       22.000000\n",
       "25%       87.000000\n",
       "50%       93.000000\n",
       "75%       95.000000\n",
       "max       99.000000\n",
       "Name: pct_(%), dtype: float64"
      ]
     },
     "execution_count": 13,
     "metadata": {},
     "output_type": "execute_result"
    }
   ],
   "source": [
    "print(\"Estadísticas descriptivas del cultivo total sembrado de soya:\")\n",
    "df_crops[df_crops['crop'] == 'soybean']['pct_(%)'].describe()"
   ]
  },
  {
   "cell_type": "markdown",
   "metadata": {},
   "source": [
    "<div style=\"background-color: lightyellow; padding: 10px;\">\n",
    "\n",
    "<span style=\"color: darkblue;\">  \n",
    "    \n",
    "**Observaciones:**  \n",
    "De acuerdo a los estadísticos descriptivos, se observa que menos del 50 % del total de los cultivos sembrados para maíz y algodón son genéticamente modificados, con un 37.9 % y  45.5 %, respectivamente. Mientras que para la soya el 88.8 % es genéticamente modificado.\n",
    "    \n",
    "</span>\n",
    "    \n",
    "</div>"
   ]
  },
  {
   "cell_type": "code",
   "execution_count": 44,
   "metadata": {},
   "outputs": [
    {
     "data": {
      "text/html": [
       "<div>\n",
       "<style scoped>\n",
       "    .dataframe tbody tr th:only-of-type {\n",
       "        vertical-align: middle;\n",
       "    }\n",
       "\n",
       "    .dataframe tbody tr th {\n",
       "        vertical-align: top;\n",
       "    }\n",
       "\n",
       "    .dataframe thead th {\n",
       "        text-align: right;\n",
       "    }\n",
       "</style>\n",
       "<table border=\"1\" class=\"dataframe\">\n",
       "  <thead>\n",
       "    <tr style=\"text-align: right;\">\n",
       "      <th></th>\n",
       "      <th>variety</th>\n",
       "      <th>state</th>\n",
       "      <th>year</th>\n",
       "      <th>pct_(%)</th>\n",
       "      <th>crop</th>\n",
       "    </tr>\n",
       "  </thead>\n",
       "  <tbody>\n",
       "    <tr>\n",
       "      <th>0</th>\n",
       "      <td>Insect-resistant (Bt)</td>\n",
       "      <td>Illinois</td>\n",
       "      <td>2000-01-01</td>\n",
       "      <td>13.0</td>\n",
       "      <td>corn</td>\n",
       "    </tr>\n",
       "    <tr>\n",
       "      <th>1</th>\n",
       "      <td>Insect-resistant (Bt)</td>\n",
       "      <td>Illinois</td>\n",
       "      <td>2001-01-01</td>\n",
       "      <td>12.0</td>\n",
       "      <td>corn</td>\n",
       "    </tr>\n",
       "    <tr>\n",
       "      <th>2</th>\n",
       "      <td>Insect-resistant (Bt)</td>\n",
       "      <td>Illinois</td>\n",
       "      <td>2002-01-01</td>\n",
       "      <td>18.0</td>\n",
       "      <td>corn</td>\n",
       "    </tr>\n",
       "    <tr>\n",
       "      <th>3</th>\n",
       "      <td>Insect-resistant (Bt)</td>\n",
       "      <td>Illinois</td>\n",
       "      <td>2003-01-01</td>\n",
       "      <td>23.0</td>\n",
       "      <td>corn</td>\n",
       "    </tr>\n",
       "    <tr>\n",
       "      <th>4</th>\n",
       "      <td>Insect-resistant (Bt)</td>\n",
       "      <td>Illinois</td>\n",
       "      <td>2004-01-01</td>\n",
       "      <td>26.0</td>\n",
       "      <td>corn</td>\n",
       "    </tr>\n",
       "  </tbody>\n",
       "</table>\n",
       "</div>"
      ],
      "text/plain": [
       "                 variety     state       year  pct_(%)  crop\n",
       "0  Insect-resistant (Bt)  Illinois 2000-01-01     13.0  corn\n",
       "1  Insect-resistant (Bt)  Illinois 2001-01-01     12.0  corn\n",
       "2  Insect-resistant (Bt)  Illinois 2002-01-01     18.0  corn\n",
       "3  Insect-resistant (Bt)  Illinois 2003-01-01     23.0  corn\n",
       "4  Insect-resistant (Bt)  Illinois 2004-01-01     26.0  corn"
      ]
     },
     "execution_count": 44,
     "metadata": {},
     "output_type": "execute_result"
    }
   ],
   "source": [
    "# se filtra el DataFrame por el tipo de modificación genética, en donde se incluyan sólo los tipos\n",
    "df_all_ge = df_crops[~(df_crops['variety'] == 'All GE varieties')]\n",
    "df_all_ge.head()"
   ]
  },
  {
   "cell_type": "code",
   "execution_count": 45,
   "metadata": {},
   "outputs": [
    {
     "name": "stdout",
     "output_type": "stream",
     "text": [
      "Estadísticas descriptivas de del porcentaje de los cultivo transgénicos sembrados:\n"
     ]
    },
    {
     "data": {
      "text/plain": [
       "count    2253.000000\n",
       "mean       37.941855\n",
       "std        34.307779\n",
       "min         0.000000\n",
       "25%         8.000000\n",
       "50%        22.000000\n",
       "75%        76.000000\n",
       "max        99.000000\n",
       "Name: pct_(%), dtype: float64"
      ]
     },
     "execution_count": 45,
     "metadata": {},
     "output_type": "execute_result"
    }
   ],
   "source": [
    "print(\"Estadísticas descriptivas de del porcentaje de los cultivo transgénicos sembrados:\")\n",
    "df_all_ge['pct_(%)'].describe()"
   ]
  },
  {
   "cell_type": "code",
   "execution_count": 51,
   "metadata": {},
   "outputs": [
    {
     "data": {
      "image/png": "[encoded data removed]",
      "text/plain": [
       "<Figure size 1200x600 with 1 Axes>"
      ]
     },
     "metadata": {},
     "output_type": "display_data"
    }
   ],
   "source": [
    "# Visualización de la distribución de del porcentaje de los cultivos gené ticamente modifcados ('pct_(%)') a lo largo de los años\n",
    "plt.figure(figsize=(12, 6))\n",
    "\n",
    "fig1 = sns.boxplot(data= df_all_ge,\n",
    "                   x= df_crops['year'].dt.year,\n",
    "                   y= 'pct_(%)'\n",
    "                   )\n",
    "\n",
    "fig1.set_title('Distribución del Porcentaje de Cultivos Transgénicos Sembrados por Año')\n",
    "fig1.set_xlabel('Año')\n",
    "fig1.set_ylabel('Porcentaje de Cultivos Transgénicos Sembrados (%)')\n",
    "plt.xticks(rotation= 45)\n",
    "plt.show()"
   ]
  },
  {
   "cell_type": "code",
   "execution_count": 98,
   "metadata": {},
   "outputs": [
    {
     "data": {
      "application/vnd.plotly.v1+json": {
       "config": {
        "plotlyServerURL": "https://plot.ly"
       },
       "data": [
        {
         "alignmentgroup": "True",
         "bingroup": "x",
         "hovertemplate": "pct_(%)=%{x}<br>count=%{y}<extra></extra>",
         "legendgroup": "",
         "marker": {
          "color": "#636efa",
          "pattern": {
           "shape": ""
          }
         },
         "name": "",
         "nbinsx": 100,
         "offsetgroup": "",
         "orientation": "v",
         "showlegend": false,
         "type": "histogram",
         "x": [
          13,
          12,
          18,
          23,
          26,
          25,
          24,
          19,
          13,
          10,
          15,
          14,
          14,
          4,
          3,
          1,
          2,
          3,
          1,
          1,
          2,
          2,
          2,
          3,
          7,
          6,
          7,
          8,
          11,
          11,
          13,
          12,
          7,
          7,
          7,
          7,
          9,
          2,
          2,
          4,
          2,
          3,
          2,
          2,
          3,
          2,
          1,
          1,
          23,
          25,
          31,
          33,
          36,
          35,
          32,
          22,
          16,
          14,
          15,
          13,
          12,
          5,
          4,
          5,
          3,
          5,
          3,
          4,
          3,
          4,
          3,
          3,
          25,
          26,
          25,
          25,
          25,
          23,
          23,
          25,
          25,
          24,
          22,
          28,
          20,
          7,
          5,
          4,
          4,
          3,
          2,
          1,
          4,
          1,
          4,
          1,
          8,
          8,
          12,
          18,
          15,
          15,
          16,
          19,
          15,
          13,
          11,
          11,
          8,
          4,
          2,
          2,
          3,
          1,
          2,
          3,
          2,
          3,
          2,
          2,
          28,
          25,
          29,
          31,
          35,
          33,
          28,
          26,
          19,
          23,
          18,
          16,
          19,
          3,
          2,
          2,
          3,
          2,
          1,
          2,
          4,
          2,
          3,
          2,
          20,
          23,
          27,
          32,
          32,
          37,
          38,
          30,
          27,
          23,
          15,
          27,
          18,
          5,
          4,
          5,
          4,
          2,
          2,
          2,
          2,
          2,
          3,
          3,
          24,
          24,
          34,
          36,
          41,
          39,
          37,
          31,
          27,
          26,
          22,
          15,
          16,
          6,
          4,
          4,
          3,
          3,
          3,
          3,
          3,
          2,
          3,
          2,
          null,
          null,
          null,
          null,
          null,
          21,
          29,
          29,
          24,
          22,
          22,
          26,
          17,
          5,
          6,
          6,
          4,
          5,
          2,
          3,
          3,
          3,
          3,
          1,
          6,
          7,
          6,
          6,
          8,
          9,
          8,
          9,
          12,
          15,
          13,
          24,
          13,
          6,
          3,
          3,
          2,
          2,
          2,
          2,
          3,
          5,
          1,
          2,
          35,
          30,
          33,
          34,
          28,
          30,
          20,
          16,
          7,
          6,
          6,
          7,
          9,
          2,
          3,
          1,
          4,
          3,
          2,
          3,
          4,
          3,
          1,
          2,
          null,
          null,
          null,
          null,
          null,
          21,
          27,
          22,
          20,
          21,
          18,
          22,
          20,
          16,
          12,
          10,
          8,
          5,
          6,
          6,
          8,
          3,
          5,
          3,
          13,
          11,
          15,
          21,
          22,
          22,
          22,
          19,
          14,
          13,
          13,
          18,
          10,
          3,
          3,
          3,
          3,
          2,
          3,
          3,
          3,
          3,
          3,
          2,
          10,
          11,
          14,
          17,
          19,
          19,
          20,
          20,
          20,
          20,
          21,
          20,
          18,
          6,
          6,
          4,
          5,
          4,
          4,
          3,
          4,
          3,
          4,
          4,
          18,
          18,
          22,
          25,
          27,
          26,
          25,
          21,
          17,
          17,
          16,
          16,
          15,
          5,
          4,
          4,
          3,
          3,
          2,
          3,
          3,
          3,
          3,
          3,
          3,
          3,
          3,
          4,
          5,
          6,
          12,
          15,
          15,
          15,
          15,
          17,
          18,
          7,
          5,
          4,
          4,
          4,
          5,
          4,
          4,
          4,
          4,
          5,
          4,
          6,
          6,
          7,
          8,
          11,
          15,
          17,
          16,
          17,
          20,
          22,
          15,
          10,
          8,
          8,
          9,
          9,
          7,
          9,
          9,
          7,
          7,
          8,
          5,
          6,
          7,
          8,
          10,
          14,
          14,
          19,
          15,
          15,
          14,
          16,
          15,
          14,
          8,
          8,
          9,
          8,
          7,
          7,
          8,
          9,
          8,
          11,
          7,
          11,
          15,
          17,
          24,
          30,
          33,
          36,
          30,
          29,
          28,
          22,
          19,
          15,
          18,
          12,
          12,
          15,
          10,
          12,
          11,
          8,
          12,
          8,
          4,
          7,
          8,
          14,
          14,
          20,
          18,
          22,
          24,
          20,
          25,
          24,
          26,
          15,
          15,
          16,
          18,
          15,
          11,
          11,
          13,
          12,
          11,
          9,
          7,
          7,
          11,
          15,
          17,
          22,
          29,
          32,
          29,
          24,
          28,
          29,
          22,
          10,
          10,
          13,
          10,
          10,
          9,
          8,
          9,
          8,
          4,
          8,
          6,
          8,
          6,
          9,
          13,
          12,
          14,
          19,
          21,
          17,
          19,
          22,
          20,
          16,
          10,
          9,
          8,
          8,
          7,
          7,
          8,
          5,
          12,
          5,
          8,
          8,
          9,
          11,
          13,
          18,
          24,
          23,
          24,
          23,
          24,
          26,
          20,
          13,
          15,
          10,
          15,
          12,
          9,
          8,
          9,
          4,
          7,
          5,
          null,
          null,
          null,
          null,
          null,
          39,
          34,
          37,
          34,
          30,
          34,
          32,
          36,
          20,
          22,
          21,
          25,
          21,
          21,
          15,
          13,
          12,
          17,
          10,
          3,
          4,
          3,
          3,
          4,
          7,
          13,
          12,
          17,
          17,
          22,
          13,
          20,
          16,
          14,
          14,
          18,
          14,
          14,
          11,
          13,
          14,
          10,
          12,
          11,
          14,
          23,
          24,
          30,
          31,
          32,
          34,
          30,
          25,
          29,
          25,
          23,
          12,
          14,
          13,
          16,
          17,
          15,
          12,
          11,
          8,
          10,
          5,
          null,
          null,
          null,
          null,
          null,
          42,
          37,
          37,
          31,
          30,
          27,
          24,
          21,
          20,
          17,
          12,
          11,
          13,
          12,
          9,
          8,
          9,
          8,
          9,
          4,
          6,
          9,
          9,
          14,
          18,
          18,
          23,
          26,
          27,
          29,
          27,
          23,
          18,
          17,
          19,
          17,
          14,
          13,
          14,
          11,
          12,
          11,
          11,
          6,
          8,
          12,
          17,
          21,
          19,
          25,
          33,
          32,
          30,
          30,
          30,
          26,
          21,
          19,
          18,
          18,
          17,
          15,
          13,
          14,
          15,
          14,
          13,
          6,
          7,
          9,
          11,
          14,
          17,
          21,
          24,
          23,
          22,
          23,
          23,
          21,
          14,
          13,
          12,
          13,
          12,
          10,
          9,
          10,
          9,
          9,
          9,
          1,
          1,
          1,
          1,
          2,
          5,
          19,
          40,
          52,
          59,
          52,
          55,
          53,
          78,
          83,
          88,
          87,
          85,
          89,
          88,
          88,
          86,
          87,
          87,
          0,
          0,
          0,
          1,
          2,
          4,
          12,
          30,
          55,
          55,
          56,
          56,
          60,
          73,
          78,
          76,
          75,
          75,
          77,
          76,
          74,
          78,
          79,
          78,
          2,
          1,
          3,
          4,
          8,
          11,
          18,
          37,
          53,
          57,
          61,
          61,
          64,
          72,
          83,
          80,
          80,
          80,
          83,
          81,
          79,
          80,
          82,
          81,
          1,
          1,
          2,
          5,
          5,
          10,
          12,
          21,
          35,
          38,
          40,
          42,
          51,
          69,
          72,
          79,
          79,
          77,
          84,
          82,
          81,
          84,
          78,
          86,
          0,
          2,
          2,
          3,
          4,
          5,
          10,
          19,
          33,
          42,
          44,
          52,
          52,
          71,
          76,
          74,
          70,
          71,
          72,
          75,
          74,
          76,
          81,
          81,
          2,
          4,
          4,
          7,
          11,
          11,
          16,
          28,
          40,
          41,
          46,
          48,
          47,
          78,
          81,
          78,
          80,
          82,
          83,
          80,
          79,
          84,
          86,
          83,
          2,
          1,
          2,
          1,
          4,
          6,
          7,
          13,
          22,
          37,
          45,
          36,
          48,
          71,
          79,
          75,
          81,
          81,
          83,
          82,
          83,
          84,
          81,
          86,
          2,
          2,
          4,
          5,
          6,
          12,
          15,
          25,
          35,
          42,
          45,
          52,
          55,
          74,
          77,
          82,
          77,
          81,
          84,
          85,
          82,
          91,
          85,
          87,
          null,
          null,
          null,
          null,
          null,
          15,
          20,
          22,
          31,
          41,
          37,
          39,
          43,
          69,
          68,
          70,
          66,
          67,
          69,
          78,
          75,
          77,
          74,
          85,
          0,
          0,
          0,
          0,
          1,
          2,
          5,
          20,
          37,
          35,
          36,
          37,
          43,
          63,
          69,
          68,
          66,
          66,
          70,
          76,
          71,
          70,
          80,
          76,
          2,
          3,
          10,
          17,
          21,
          22,
          34,
          43,
          58,
          65,
          60,
          64,
          62,
          82,
          80,
          83,
          78,
          77,
          79,
          79,
          80,
          83,
          84,
          87,
          null,
          null,
          null,
          null,
          null,
          9,
          13,
          20,
          27,
          33,
          40,
          42,
          44,
          53,
          62,
          67,
          71,
          77,
          75,
          80,
          76,
          80,
          79,
          83,
          1,
          1,
          2,
          2,
          2,
          6,
          10,
          22,
          35,
          37,
          38,
          41,
          53,
          63,
          72,
          70,
          70,
          71,
          72,
          72,
          76,
          76,
          77,
          80,
          1,
          1,
          2,
          2,
          6,
          6,
          10,
          14,
          22,
          28,
          31,
          36,
          41,
          61,
          66,
          68,
          68,
          70,
          71,
          75,
          73,
          73,
          74,
          73,
          1,
          1,
          2,
          4,
          6,
          9,
          15,
          28,
          40,
          46,
          47,
          49,
          52,
          71,
          76,
          77,
          76,
          77,
          80,
          80,
          79,
          81,
          81,
          82,
          null,
          null,
          null,
          null,
          null,
          10,
          10,
          10,
          18,
          13,
          11,
          18,
          17,
          12,
          9,
          4,
          6,
          2,
          1,
          2,
          4,
          1,
          3,
          4,
          33,
          21,
          27,
          24,
          34,
          42,
          28,
          32,
          30,
          28,
          20,
          18,
          10,
          22,
          13,
          7,
          7,
          7,
          9,
          7,
          12,
          11,
          6,
          16,
          3,
          11,
          6,
          9,
          6,
          8,
          9,
          4,
          7,
          8,
          19,
          9,
          21,
          9,
          15,
          10,
          3,
          2,
          6,
          10,
          3,
          3,
          10,
          4,
          18,
          13,
          8,
          14,
          13,
          29,
          19,
          17,
          19,
          20,
          20,
          18,
          13,
          5,
          3,
          1,
          1,
          4,
          1,
          1,
          3,
          2,
          6,
          5,
          37,
          30,
          27,
          30,
          26,
          21,
          13,
          17,
          19,
          20,
          19,
          26,
          24,
          19,
          4,
          5,
          10,
          4,
          3,
          3,
          7,
          10,
          6,
          2,
          29,
          10,
          19,
          15,
          16,
          14,
          7,
          16,
          19,
          14,
          12,
          15,
          9,
          2,
          2,
          1,
          3,
          8,
          2,
          1,
          2,
          1,
          1,
          2,
          null,
          null,
          null,
          null,
          null,
          20,
          32,
          13,
          12,
          18,
          22,
          22,
          33,
          6,
          21,
          6,
          12,
          5,
          6,
          2,
          7,
          12,
          4,
          4,
          11,
          9,
          14,
          16,
          18,
          17,
          19,
          13,
          19,
          15,
          14,
          10,
          16,
          2,
          3,
          1,
          2,
          3,
          1,
          2,
          3,
          3,
          3,
          3,
          null,
          null,
          null,
          null,
          null,
          13,
          16,
          10,
          10,
          7,
          8,
          9,
          7,
          4,
          2,
          1,
          1,
          2,
          1,
          1,
          1,
          1,
          1,
          1,
          7,
          8,
          7,
          8,
          10,
          14,
          18,
          16,
          16,
          15,
          13,
          18,
          11,
          8,
          4,
          5,
          4,
          5,
          3,
          3,
          5,
          2,
          2,
          2,
          17,
          18,
          19,
          18,
          22,
          18,
          21,
          27,
          22,
          24,
          24,
          21,
          24,
          5,
          3,
          10,
          3,
          3,
          2,
          2,
          2,
          2,
          4,
          1,
          15,
          13,
          13,
          14,
          16,
          18,
          18,
          17,
          18,
          17,
          15,
          17,
          14,
          8,
          5,
          5,
          4,
          5,
          3,
          3,
          5,
          3,
          3,
          3,
          null,
          null,
          null,
          null,
          null,
          28,
          25,
          25,
          15,
          18,
          7,
          4,
          11,
          4,
          6,
          3,
          2,
          3,
          6,
          5,
          3,
          2,
          3,
          3,
          23,
          29,
          37,
          25,
          15,
          12,
          21,
          16,
          4,
          5,
          2,
          7,
          12,
          13,
          12,
          12,
          8,
          13,
          14,
          10,
          12,
          10,
          5,
          13,
          17,
          27,
          26,
          27,
          39,
          40,
          40,
          51,
          45,
          54,
          56,
          46,
          43,
          40,
          28,
          35,
          37,
          27,
          18,
          38,
          17,
          14,
          17,
          28,
          32,
          43,
          55,
          32,
          23,
          11,
          13,
          10,
          5,
          7,
          8,
          6,
          7,
          10,
          4,
          5,
          5,
          4,
          3,
          1,
          3,
          4,
          1,
          3,
          13,
          14,
          9,
          15,
          7,
          10,
          13,
          11,
          6,
          10,
          3,
          6,
          9,
          16,
          11,
          7,
          2,
          5,
          4,
          4,
          6,
          2,
          6,
          2,
          13,
          15,
          22,
          16,
          23,
          23,
          22,
          19,
          13,
          16,
          9,
          7,
          7,
          12,
          11,
          11,
          2,
          3,
          6,
          4,
          3,
          3,
          8,
          3,
          null,
          null,
          null,
          null,
          null,
          59,
          40,
          63,
          68,
          29,
          47,
          47,
          32,
          54,
          27,
          36,
          34,
          36,
          20,
          17,
          15,
          7,
          24,
          20,
          29,
          37,
          27,
          29,
          27,
          24,
          19,
          16,
          14,
          13,
          7,
          7,
          8,
          5,
          5,
          7,
          1,
          4,
          3,
          6,
          4,
          7,
          8,
          7,
          null,
          null,
          null,
          null,
          null,
          8,
          10,
          17,
          14,
          10,
          8,
          6,
          6,
          5,
          5,
          1,
          3,
          3,
          4,
          3,
          1,
          1,
          0,
          0,
          33,
          35,
          40,
          39,
          40,
          35,
          34,
          36,
          31,
          31,
          27,
          19,
          22,
          17,
          15,
          11,
          11,
          13,
          10,
          7,
          8,
          7,
          7,
          9,
          21,
          33,
          35,
          32,
          24,
          24,
          24,
          20,
          20,
          17,
          16,
          16,
          11,
          9,
          8,
          8,
          9,
          12,
          10,
          6,
          12,
          4,
          5,
          6,
          26,
          32,
          36,
          32,
          30,
          27,
          26,
          28,
          23,
          23,
          20,
          15,
          17,
          15,
          12,
          10,
          9,
          11,
          9,
          6,
          8,
          6,
          6,
          8,
          null,
          null,
          null,
          null,
          null,
          54,
          60,
          60,
          65,
          60,
          76,
          75,
          70,
          82,
          83,
          90,
          90,
          93,
          92,
          92,
          92,
          96,
          93,
          92,
          14,
          28,
          26,
          46,
          45,
          42,
          45,
          47,
          64,
          64,
          76,
          73,
          77,
          63,
          74,
          80,
          84,
          79,
          76,
          82,
          75,
          78,
          88,
          70,
          4,
          2,
          1,
          3,
          7,
          5,
          8,
          6,
          8,
          11,
          8,
          25,
          16,
          28,
          34,
          26,
          38,
          43,
          57,
          41,
          75,
          75,
          63,
          60,
          32,
          29,
          30,
          47,
          58,
          55,
          64,
          68,
          73,
          70,
          69,
          72,
          78,
          83,
          92,
          92,
          93,
          91,
          96,
          97,
          94,
          93,
          91,
          91,
          30,
          47,
          49,
          46,
          60,
          64,
          68,
          68,
          73,
          63,
          73,
          65,
          64,
          63,
          84,
          87,
          86,
          90,
          92,
          92,
          86,
          87,
          87,
          95,
          36,
          61,
          47,
          61,
          58,
          59,
          69,
          62,
          66,
          63,
          68,
          76,
          82,
          85,
          86,
          87,
          94,
          88,
          91,
          94,
          94,
          95,
          89,
          94,
          null,
          null,
          null,
          null,
          null,
          16,
          25,
          23,
          19,
          51,
          29,
          29,
          33,
          38,
          48,
          56,
          48,
          58,
          73,
          78,
          77,
          80,
          71,
          75,
          36,
          38,
          45,
          48,
          46,
          54,
          60,
          64,
          62,
          68,
          76,
          79,
          72,
          87,
          89,
          89,
          93,
          89,
          89,
          89,
          89,
          84,
          84,
          86,
          null,
          null,
          null,
          null,
          null,
          75,
          67,
          71,
          73,
          80,
          82,
          83,
          84,
          87,
          92,
          97,
          94,
          94,
          91,
          95,
          95,
          97,
          98,
          96,
          6,
          6,
          4,
          6,
          8,
          14,
          18,
          28,
          31,
          35,
          51,
          49,
          58,
          60,
          74,
          75,
          75,
          76,
          77,
          88,
          80,
          86,
          85,
          85,
          36,
          33,
          32,
          38,
          45,
          46,
          45,
          42,
          48,
          49,
          52,
          57,
          60,
          81,
          87,
          78,
          85,
          82,
          86,
          90,
          82,
          92,
          89,
          90,
          20,
          24,
          22,
          27,
          30,
          34,
          39,
          42,
          45,
          48,
          58,
          58,
          63,
          67,
          79,
          79,
          80,
          80,
          82,
          89,
          83,
          88,
          86,
          86,
          43,
          60,
          68,
          84,
          92,
          92,
          92,
          92,
          94,
          94,
          96,
          95,
          94,
          97,
          99,
          97,
          96,
          97,
          97,
          96,
          96,
          98,
          98,
          98,
          44,
          64,
          71,
          77,
          81,
          81,
          87,
          88,
          87,
          90,
          89,
          92,
          90,
          92,
          91,
          93,
          94,
          93,
          93,
          94,
          94,
          94,
          95,
          95,
          63,
          78,
          83,
          88,
          87,
          89,
          92,
          94,
          96,
          94,
          95,
          96,
          93,
          90,
          92,
          93,
          92,
          92,
          91,
          93,
          93,
          91,
          93,
          94,
          59,
          73,
          75,
          84,
          89,
          91,
          91,
          94,
          95,
          94,
          96,
          97,
          97,
          93,
          97,
          96,
          97,
          94,
          95,
          94,
          93,
          97,
          97,
          97,
          66,
          80,
          83,
          87,
          87,
          90,
          85,
          92,
          95,
          94,
          95,
          96,
          94,
          93,
          94,
          96,
          95,
          94,
          95,
          95,
          97,
          96,
          96,
          93,
          50,
          59,
          72,
          73,
          75,
          76,
          81,
          87,
          84,
          83,
          85,
          91,
          91,
          90,
          91,
          94,
          95,
          94,
          93,
          92,
          91,
          93,
          93,
          93,
          46,
          63,
          71,
          79,
          82,
          83,
          88,
          92,
          91,
          92,
          93,
          95,
          91,
          93,
          94,
          95,
          96,
          96,
          95,
          95,
          93,
          96,
          96,
          96,
          48,
          63,
          80,
          89,
          93,
          96,
          96,
          96,
          97,
          94,
          98,
          98,
          95,
          98,
          99,
          99,
          99,
          99,
          99,
          99,
          99,
          99,
          99,
          99,
          62,
          69,
          72,
          83,
          87,
          89,
          93,
          91,
          92,
          89,
          94,
          91,
          91,
          90,
          91,
          87,
          89,
          87,
          91,
          94,
          95,
          93,
          96,
          95,
          72,
          76,
          85,
          86,
          92,
          91,
          90,
          96,
          97,
          96,
          94,
          97,
          95,
          96,
          95,
          95,
          96,
          94,
          96,
          95,
          96,
          96,
          96,
          93,
          22,
          49,
          61,
          74,
          82,
          89,
          90,
          92,
          94,
          94,
          94,
          94,
          98,
          94,
          96,
          94,
          95,
          95,
          95,
          95,
          94,
          93,
          92,
          96,
          48,
          64,
          73,
          74,
          76,
          77,
          82,
          87,
          89,
          83,
          86,
          85,
          86,
          89,
          90,
          91,
          91,
          91,
          91,
          95,
          88,
          96,
          94,
          94,
          68,
          80,
          89,
          91,
          95,
          95,
          93,
          97,
          97,
          98,
          98,
          98,
          98,
          97,
          97,
          96,
          96,
          96,
          97,
          93,
          95,
          94,
          96,
          96,
          51,
          63,
          78,
          84,
          82,
          84,
          85,
          88,
          90,
          85,
          88,
          91,
          92,
          89,
          95,
          93,
          94,
          92,
          92,
          91,
          89,
          91,
          92,
          91,
          54,
          64,
          70,
          76,
          82,
          84,
          86,
          86,
          87,
          87,
          90,
          92,
          93,
          92,
          94,
          94,
          94,
          94,
          94,
          94,
          94,
          94,
          95,
          93,
          54,
          68,
          75,
          81,
          85,
          87,
          89,
          91,
          92,
          91,
          93,
          94,
          93,
          93,
          94,
          94,
          94,
          94,
          94,
          94,
          94,
          95,
          95,
          95
         ],
         "xaxis": "x",
         "yaxis": "y"
        }
       ],
       "layout": {
        "barmode": "relative",
        "legend": {
         "tracegroupgap": 0
        },
        "template": {
         "data": {
          "bar": [
           {
            "error_x": {
             "color": "#2a3f5f"
            },
            "error_y": {
             "color": "#2a3f5f"
            },
            "marker": {
             "line": {
              "color": "#E5ECF6",
              "width": 0.5
             },
             "pattern": {
              "fillmode": "overlay",
              "size": 10,
              "solidity": 0.2
             }
            },
            "type": "bar"
           }
          ],
          "barpolar": [
           {
            "marker": {
             "line": {
              "color": "#E5ECF6",
              "width": 0.5
             },
             "pattern": {
              "fillmode": "overlay",
              "size": 10,
              "solidity": 0.2
             }
            },
            "type": "barpolar"
           }
          ],
          "carpet": [
           {
            "aaxis": {
             "endlinecolor": "#2a3f5f",
             "gridcolor": "white",
             "linecolor": "white",
             "minorgridcolor": "white",
             "startlinecolor": "#2a3f5f"
            },
            "baxis": {
             "endlinecolor": "#2a3f5f",
             "gridcolor": "white",
             "linecolor": "white",
             "minorgridcolor": "white",
             "startlinecolor": "#2a3f5f"
            },
            "type": "carpet"
           }
          ],
          "choropleth": [
           {
            "colorbar": {
             "outlinewidth": 0,
             "ticks": ""
            },
            "type": "choropleth"
           }
          ],
          "contour": [
           {
            "colorbar": {
             "outlinewidth": 0,
             "ticks": ""
            },
            "colorscale": [
             [
              0,
              "#0d0887"
             ],
             [
              0.1111111111111111,
              "#46039f"
             ],
             [
              0.2222222222222222,
              "#7201a8"
             ],
             [
              0.3333333333333333,
              "#9c179e"
             ],
             [
              0.4444444444444444,
              "#bd3786"
             ],
             [
              0.5555555555555556,
              "#d8576b"
             ],
             [
              0.6666666666666666,
              "#ed7953"
             ],
             [
              0.7777777777777778,
              "#fb9f3a"
             ],
             [
              0.8888888888888888,
              "#fdca26"
             ],
             [
              1,
              "#f0f921"
             ]
            ],
            "type": "contour"
           }
          ],
          "contourcarpet": [
           {
            "colorbar": {
             "outlinewidth": 0,
             "ticks": ""
            },
            "type": "contourcarpet"
           }
          ],
          "heatmap": [
           {
            "colorbar": {
             "outlinewidth": 0,
             "ticks": ""
            },
            "colorscale": [
             [
              0,
              "#0d0887"
             ],
             [
              0.1111111111111111,
              "#46039f"
             ],
             [
              0.2222222222222222,
              "#7201a8"
             ],
             [
              0.3333333333333333,
              "#9c179e"
             ],
             [
              0.4444444444444444,
              "#bd3786"
             ],
             [
              0.5555555555555556,
              "#d8576b"
             ],
             [
              0.6666666666666666,
              "#ed7953"
             ],
             [
              0.7777777777777778,
              "#fb9f3a"
             ],
             [
              0.8888888888888888,
              "#fdca26"
             ],
             [
              1,
              "#f0f921"
             ]
            ],
            "type": "heatmap"
           }
          ],
          "heatmapgl": [
           {
            "colorbar": {
             "outlinewidth": 0,
             "ticks": ""
            },
            "colorscale": [
             [
              0,
              "#0d0887"
             ],
             [
              0.1111111111111111,
              "#46039f"
             ],
             [
              0.2222222222222222,
              "#7201a8"
             ],
             [
              0.3333333333333333,
              "#9c179e"
             ],
             [
              0.4444444444444444,
              "#bd3786"
             ],
             [
              0.5555555555555556,
              "#d8576b"
             ],
             [
              0.6666666666666666,
              "#ed7953"
             ],
             [
              0.7777777777777778,
              "#fb9f3a"
             ],
             [
              0.8888888888888888,
              "#fdca26"
             ],
             [
              1,
              "#f0f921"
             ]
            ],
            "type": "heatmapgl"
           }
          ],
          "histogram": [
           {
            "marker": {
             "pattern": {
              "fillmode": "overlay",
              "size": 10,
              "solidity": 0.2
             }
            },
            "type": "histogram"
           }
          ],
          "histogram2d": [
           {
            "colorbar": {
             "outlinewidth": 0,
             "ticks": ""
            },
            "colorscale": [
             [
              0,
              "#0d0887"
             ],
             [
              0.1111111111111111,
              "#46039f"
             ],
             [
              0.2222222222222222,
              "#7201a8"
             ],
             [
              0.3333333333333333,
              "#9c179e"
             ],
             [
              0.4444444444444444,
              "#bd3786"
             ],
             [
              0.5555555555555556,
              "#d8576b"
             ],
             [
              0.6666666666666666,
              "#ed7953"
             ],
             [
              0.7777777777777778,
              "#fb9f3a"
             ],
             [
              0.8888888888888888,
              "#fdca26"
             ],
             [
              1,
              "#f0f921"
             ]
            ],
            "type": "histogram2d"
           }
          ],
          "histogram2dcontour": [
           {
            "colorbar": {
             "outlinewidth": 0,
             "ticks": ""
            },
            "colorscale": [
             [
              0,
              "#0d0887"
             ],
             [
              0.1111111111111111,
              "#46039f"
             ],
             [
              0.2222222222222222,
              "#7201a8"
             ],
             [
              0.3333333333333333,
              "#9c179e"
             ],
             [
              0.4444444444444444,
              "#bd3786"
             ],
             [
              0.5555555555555556,
              "#d8576b"
             ],
             [
              0.6666666666666666,
              "#ed7953"
             ],
             [
              0.7777777777777778,
              "#fb9f3a"
             ],
             [
              0.8888888888888888,
              "#fdca26"
             ],
             [
              1,
              "#f0f921"
             ]
            ],
            "type": "histogram2dcontour"
           }
          ],
          "mesh3d": [
           {
            "colorbar": {
             "outlinewidth": 0,
             "ticks": ""
            },
            "type": "mesh3d"
           }
          ],
          "parcoords": [
           {
            "line": {
             "colorbar": {
              "outlinewidth": 0,
              "ticks": ""
             }
            },
            "type": "parcoords"
           }
          ],
          "pie": [
           {
            "automargin": true,
            "type": "pie"
           }
          ],
          "scatter": [
           {
            "fillpattern": {
             "fillmode": "overlay",
             "size": 10,
             "solidity": 0.2
            },
            "type": "scatter"
           }
          ],
          "scatter3d": [
           {
            "line": {
             "colorbar": {
              "outlinewidth": 0,
              "ticks": ""
             }
            },
            "marker": {
             "colorbar": {
              "outlinewidth": 0,
              "ticks": ""
             }
            },
            "type": "scatter3d"
           }
          ],
          "scattercarpet": [
           {
            "marker": {
             "colorbar": {
              "outlinewidth": 0,
              "ticks": ""
             }
            },
            "type": "scattercarpet"
           }
          ],
          "scattergeo": [
           {
            "marker": {
             "colorbar": {
              "outlinewidth": 0,
              "ticks": ""
             }
            },
            "type": "scattergeo"
           }
          ],
          "scattergl": [
           {
            "marker": {
             "colorbar": {
              "outlinewidth": 0,
              "ticks": ""
             }
            },
            "type": "scattergl"
           }
          ],
          "scattermapbox": [
           {
            "marker": {
             "colorbar": {
              "outlinewidth": 0,
              "ticks": ""
             }
            },
            "type": "scattermapbox"
           }
          ],
          "scatterpolar": [
           {
            "marker": {
             "colorbar": {
              "outlinewidth": 0,
              "ticks": ""
             }
            },
            "type": "scatterpolar"
           }
          ],
          "scatterpolargl": [
           {
            "marker": {
             "colorbar": {
              "outlinewidth": 0,
              "ticks": ""
             }
            },
            "type": "scatterpolargl"
           }
          ],
          "scatterternary": [
           {
            "marker": {
             "colorbar": {
              "outlinewidth": 0,
              "ticks": ""
             }
            },
            "type": "scatterternary"
           }
          ],
          "surface": [
           {
            "colorbar": {
             "outlinewidth": 0,
             "ticks": ""
            },
            "colorscale": [
             [
              0,
              "#0d0887"
             ],
             [
              0.1111111111111111,
              "#46039f"
             ],
             [
              0.2222222222222222,
              "#7201a8"
             ],
             [
              0.3333333333333333,
              "#9c179e"
             ],
             [
              0.4444444444444444,
              "#bd3786"
             ],
             [
              0.5555555555555556,
              "#d8576b"
             ],
             [
              0.6666666666666666,
              "#ed7953"
             ],
             [
              0.7777777777777778,
              "#fb9f3a"
             ],
             [
              0.8888888888888888,
              "#fdca26"
             ],
             [
              1,
              "#f0f921"
             ]
            ],
            "type": "surface"
           }
          ],
          "table": [
           {
            "cells": {
             "fill": {
              "color": "#EBF0F8"
             },
             "line": {
              "color": "white"
             }
            },
            "header": {
             "fill": {
              "color": "#C8D4E3"
             },
             "line": {
              "color": "white"
             }
            },
            "type": "table"
           }
          ]
         },
         "layout": {
          "annotationdefaults": {
           "arrowcolor": "#2a3f5f",
           "arrowhead": 0,
           "arrowwidth": 1
          },
          "autotypenumbers": "strict",
          "coloraxis": {
           "colorbar": {
            "outlinewidth": 0,
            "ticks": ""
           }
          },
          "colorscale": {
           "diverging": [
            [
             0,
             "#8e0152"
            ],
            [
             0.1,
             "#c51b7d"
            ],
            [
             0.2,
             "#de77ae"
            ],
            [
             0.3,
             "#f1b6da"
            ],
            [
             0.4,
             "#fde0ef"
            ],
            [
             0.5,
             "#f7f7f7"
            ],
            [
             0.6,
             "#e6f5d0"
            ],
            [
             0.7,
             "#b8e186"
            ],
            [
             0.8,
             "#7fbc41"
            ],
            [
             0.9,
             "#4d9221"
            ],
            [
             1,
             "#276419"
            ]
           ],
           "sequential": [
            [
             0,
             "#0d0887"
            ],
            [
             0.1111111111111111,
             "#46039f"
            ],
            [
             0.2222222222222222,
             "#7201a8"
            ],
            [
             0.3333333333333333,
             "#9c179e"
            ],
            [
             0.4444444444444444,
             "#bd3786"
            ],
            [
             0.5555555555555556,
             "#d8576b"
            ],
            [
             0.6666666666666666,
             "#ed7953"
            ],
            [
             0.7777777777777778,
             "#fb9f3a"
            ],
            [
             0.8888888888888888,
             "#fdca26"
            ],
            [
             1,
             "#f0f921"
            ]
           ],
           "sequentialminus": [
            [
             0,
             "#0d0887"
            ],
            [
             0.1111111111111111,
             "#46039f"
            ],
            [
             0.2222222222222222,
             "#7201a8"
            ],
            [
             0.3333333333333333,
             "#9c179e"
            ],
            [
             0.4444444444444444,
             "#bd3786"
            ],
            [
             0.5555555555555556,
             "#d8576b"
            ],
            [
             0.6666666666666666,
             "#ed7953"
            ],
            [
             0.7777777777777778,
             "#fb9f3a"
            ],
            [
             0.8888888888888888,
             "#fdca26"
            ],
            [
             1,
             "#f0f921"
            ]
           ]
          },
          "colorway": [
           "#636efa",
           "#EF553B",
           "#00cc96",
           "#ab63fa",
           "#FFA15A",
           "#19d3f3",
           "#FF6692",
           "#B6E880",
           "#FF97FF",
           "#FECB52"
          ],
          "font": {
           "color": "#2a3f5f"
          },
          "geo": {
           "bgcolor": "white",
           "lakecolor": "white",
           "landcolor": "#E5ECF6",
           "showlakes": true,
           "showland": true,
           "subunitcolor": "white"
          },
          "hoverlabel": {
           "align": "left"
          },
          "hovermode": "closest",
          "mapbox": {
           "style": "light"
          },
          "paper_bgcolor": "white",
          "plot_bgcolor": "#E5ECF6",
          "polar": {
           "angularaxis": {
            "gridcolor": "white",
            "linecolor": "white",
            "ticks": ""
           },
           "bgcolor": "#E5ECF6",
           "radialaxis": {
            "gridcolor": "white",
            "linecolor": "white",
            "ticks": ""
           }
          },
          "scene": {
           "xaxis": {
            "backgroundcolor": "#E5ECF6",
            "gridcolor": "white",
            "gridwidth": 2,
            "linecolor": "white",
            "showbackground": true,
            "ticks": "",
            "zerolinecolor": "white"
           },
           "yaxis": {
            "backgroundcolor": "#E5ECF6",
            "gridcolor": "white",
            "gridwidth": 2,
            "linecolor": "white",
            "showbackground": true,
            "ticks": "",
            "zerolinecolor": "white"
           },
           "zaxis": {
            "backgroundcolor": "#E5ECF6",
            "gridcolor": "white",
            "gridwidth": 2,
            "linecolor": "white",
            "showbackground": true,
            "ticks": "",
            "zerolinecolor": "white"
           }
          },
          "shapedefaults": {
           "line": {
            "color": "#2a3f5f"
           }
          },
          "ternary": {
           "aaxis": {
            "gridcolor": "white",
            "linecolor": "white",
            "ticks": ""
           },
           "baxis": {
            "gridcolor": "white",
            "linecolor": "white",
            "ticks": ""
           },
           "bgcolor": "#E5ECF6",
           "caxis": {
            "gridcolor": "white",
            "linecolor": "white",
            "ticks": ""
           }
          },
          "title": {
           "x": 0.05
          },
          "xaxis": {
           "automargin": true,
           "gridcolor": "white",
           "linecolor": "white",
           "ticks": "",
           "title": {
            "standoff": 15
           },
           "zerolinecolor": "white",
           "zerolinewidth": 2
          },
          "yaxis": {
           "automargin": true,
           "gridcolor": "white",
           "linecolor": "white",
           "ticks": "",
           "title": {
            "standoff": 15
           },
           "zerolinecolor": "white",
           "zerolinewidth": 2
          }
         }
        },
        "title": {
         "text": "Distribución del porcentaje de cultivos trasngénicos"
        },
        "xaxis": {
         "anchor": "y",
         "domain": [
          0,
          1
         ],
         "title": {
          "text": "pct_(%)"
         }
        },
        "yaxis": {
         "anchor": "x",
         "domain": [
          0,
          1
         ],
         "title": {
          "text": "count"
         }
        }
       }
      }
     },
     "metadata": {},
     "output_type": "display_data"
    }
   ],
   "source": [
    "# se grafica un histograma para la distribución del porcentaje de cultivos\n",
    "fig2 =  px.histogram(df_all_ge,\n",
    "                     x= 'pct_(%)',\n",
    "                     title= 'Distribución del porcentaje de cultivos trasngénicos',\n",
    "                     nbins= 100\n",
    "                     )\n",
    "fig2.show()"
   ]
  },
  {
   "cell_type": "markdown",
   "metadata": {},
   "source": [
    "<div style=\"background-color: lightyellow; padding: 10px;\">\n",
    "\n",
    "<span style=\"color: darkblue;\">  \n",
    "    \n",
    "**Observaciones:**  \n",
    "Con base a los estadísticos descriptivos en promedio el 38 % de los cultivos sembrados son transgénicos, además en el gráfico de las distribución por año se aprecia un sesgo hacia la derecha, lo que significa que hay datos extremos mayores a la mediana (22) que hacen que la distribución no sea normal. Lo anterior se corrobora con el histograma de distribución del porcentaje de cultivos trangénicos sembrados.\n",
    "    \n",
    "</span>\n",
    "    \n",
    "</div>"
   ]
  },
  {
   "cell_type": "code",
   "execution_count": 53,
   "metadata": {},
   "outputs": [
    {
     "data": {
      "image/png": "[encoded data removed]",
      "text/plain": [
       "<Figure size 1200x600 with 1 Axes>"
      ]
     },
     "metadata": {},
     "output_type": "display_data"
    }
   ],
   "source": [
    "# Visualización de la tendencia temporal de adopción promedio por año\n",
    "plt.figure(figsize=(12, 6))\n",
    "\n",
    "fig3 = df_all_ge.groupby(df_crops['year'].dt.year)['pct_(%)'].mean().plot(marker='o')\n",
    "fig3.set_title('Tendencia de Adopción de Cultivos Transgénicos')\n",
    "fig3.set_xlabel('Año')\n",
    "fig3.set_ylabel('Adopción Promedio de Cultivos Trangénicos (%)')\n",
    "plt.grid(False)\n",
    "plt.show()"
   ]
  },
  {
   "cell_type": "markdown",
   "metadata": {},
   "source": [
    "<div style=\"background-color: lightyellow; padding: 10px;\">\n",
    "\n",
    "<span style=\"color: darkblue;\">  \n",
    "    \n",
    "**Observaciones:**  \n",
    "Desde el año 2000 hasta el 2023 se observa un considerable incremento en el uso de cultivos transgénicos. En el 2000 se empleaban menos del 15 % y en 2023 se usaron más del 40 %, un aumento por encima del 20 %. Lo anterior evidencia que el uso de cultivos trangénicos es cada vez mayor.\n",
    "    \n",
    "</span>\n",
    "    \n",
    "</div>"
   ]
  },
  {
   "cell_type": "code",
   "execution_count": 65,
   "metadata": {},
   "outputs": [
    {
     "data": {
      "application/vnd.plotly.v1+json": {
       "config": {
        "plotlyServerURL": "https://plot.ly"
       },
       "data": [
        {
         "alignmentgroup": "True",
         "hovertemplate": "Estado=%{x}<br>Adopción Promedio (%)=%{y}<extra></extra>",
         "legendgroup": "",
         "marker": {
          "color": "darkcyan",
          "pattern": {
           "shape": ""
          }
         },
         "name": "",
         "offsetgroup": "",
         "orientation": "v",
         "showlegend": false,
         "textposition": "auto",
         "type": "bar",
         "x": [
          "North Dakota",
          "Mississippi",
          "Arkansas",
          "South Dakota",
          "Nebraska",
          "Kansas",
          "Iowa",
          "Minnesota",
          "Missouri",
          "Illinois"
         ],
         "xaxis": "x",
         "y": [
          86.33333333333333,
          47.15625,
          46.40625,
          45.375,
          43.395833333333336,
          42.791666666666664,
          42.1875,
          42.052083333333336,
          40.46875,
          39.447916666666664
         ],
         "yaxis": "y"
        }
       ],
       "layout": {
        "barmode": "relative",
        "legend": {
         "tracegroupgap": 0
        },
        "template": {
         "data": {
          "bar": [
           {
            "error_x": {
             "color": "#2a3f5f"
            },
            "error_y": {
             "color": "#2a3f5f"
            },
            "marker": {
             "line": {
              "color": "#E5ECF6",
              "width": 0.5
             },
             "pattern": {
              "fillmode": "overlay",
              "size": 10,
              "solidity": 0.2
             }
            },
            "type": "bar"
           }
          ],
          "barpolar": [
           {
            "marker": {
             "line": {
              "color": "#E5ECF6",
              "width": 0.5
             },
             "pattern": {
              "fillmode": "overlay",
              "size": 10,
              "solidity": 0.2
             }
            },
            "type": "barpolar"
           }
          ],
          "carpet": [
           {
            "aaxis": {
             "endlinecolor": "#2a3f5f",
             "gridcolor": "white",
             "linecolor": "white",
             "minorgridcolor": "white",
             "startlinecolor": "#2a3f5f"
            },
            "baxis": {
             "endlinecolor": "#2a3f5f",
             "gridcolor": "white",
             "linecolor": "white",
             "minorgridcolor": "white",
             "startlinecolor": "#2a3f5f"
            },
            "type": "carpet"
           }
          ],
          "choropleth": [
           {
            "colorbar": {
             "outlinewidth": 0,
             "ticks": ""
            },
            "type": "choropleth"
           }
          ],
          "contour": [
           {
            "colorbar": {
             "outlinewidth": 0,
             "ticks": ""
            },
            "colorscale": [
             [
              0,
              "#0d0887"
             ],
             [
              0.1111111111111111,
              "#46039f"
             ],
             [
              0.2222222222222222,
              "#7201a8"
             ],
             [
              0.3333333333333333,
              "#9c179e"
             ],
             [
              0.4444444444444444,
              "#bd3786"
             ],
             [
              0.5555555555555556,
              "#d8576b"
             ],
             [
              0.6666666666666666,
              "#ed7953"
             ],
             [
              0.7777777777777778,
              "#fb9f3a"
             ],
             [
              0.8888888888888888,
              "#fdca26"
             ],
             [
              1,
              "#f0f921"
             ]
            ],
            "type": "contour"
           }
          ],
          "contourcarpet": [
           {
            "colorbar": {
             "outlinewidth": 0,
             "ticks": ""
            },
            "type": "contourcarpet"
           }
          ],
          "heatmap": [
           {
            "colorbar": {
             "outlinewidth": 0,
             "ticks": ""
            },
            "colorscale": [
             [
              0,
              "#0d0887"
             ],
             [
              0.1111111111111111,
              "#46039f"
             ],
             [
              0.2222222222222222,
              "#7201a8"
             ],
             [
              0.3333333333333333,
              "#9c179e"
             ],
             [
              0.4444444444444444,
              "#bd3786"
             ],
             [
              0.5555555555555556,
              "#d8576b"
             ],
             [
              0.6666666666666666,
              "#ed7953"
             ],
             [
              0.7777777777777778,
              "#fb9f3a"
             ],
             [
              0.8888888888888888,
              "#fdca26"
             ],
             [
              1,
              "#f0f921"
             ]
            ],
            "type": "heatmap"
           }
          ],
          "heatmapgl": [
           {
            "colorbar": {
             "outlinewidth": 0,
             "ticks": ""
            },
            "colorscale": [
             [
              0,
              "#0d0887"
             ],
             [
              0.1111111111111111,
              "#46039f"
             ],
             [
              0.2222222222222222,
              "#7201a8"
             ],
             [
              0.3333333333333333,
              "#9c179e"
             ],
             [
              0.4444444444444444,
              "#bd3786"
             ],
             [
              0.5555555555555556,
              "#d8576b"
             ],
             [
              0.6666666666666666,
              "#ed7953"
             ],
             [
              0.7777777777777778,
              "#fb9f3a"
             ],
             [
              0.8888888888888888,
              "#fdca26"
             ],
             [
              1,
              "#f0f921"
             ]
            ],
            "type": "heatmapgl"
           }
          ],
          "histogram": [
           {
            "marker": {
             "pattern": {
              "fillmode": "overlay",
              "size": 10,
              "solidity": 0.2
             }
            },
            "type": "histogram"
           }
          ],
          "histogram2d": [
           {
            "colorbar": {
             "outlinewidth": 0,
             "ticks": ""
            },
            "colorscale": [
             [
              0,
              "#0d0887"
             ],
             [
              0.1111111111111111,
              "#46039f"
             ],
             [
              0.2222222222222222,
              "#7201a8"
             ],
             [
              0.3333333333333333,
              "#9c179e"
             ],
             [
              0.4444444444444444,
              "#bd3786"
             ],
             [
              0.5555555555555556,
              "#d8576b"
             ],
             [
              0.6666666666666666,
              "#ed7953"
             ],
             [
              0.7777777777777778,
              "#fb9f3a"
             ],
             [
              0.8888888888888888,
              "#fdca26"
             ],
             [
              1,
              "#f0f921"
             ]
            ],
            "type": "histogram2d"
           }
          ],
          "histogram2dcontour": [
           {
            "colorbar": {
             "outlinewidth": 0,
             "ticks": ""
            },
            "colorscale": [
             [
              0,
              "#0d0887"
             ],
             [
              0.1111111111111111,
              "#46039f"
             ],
             [
              0.2222222222222222,
              "#7201a8"
             ],
             [
              0.3333333333333333,
              "#9c179e"
             ],
             [
              0.4444444444444444,
              "#bd3786"
             ],
             [
              0.5555555555555556,
              "#d8576b"
             ],
             [
              0.6666666666666666,
              "#ed7953"
             ],
             [
              0.7777777777777778,
              "#fb9f3a"
             ],
             [
              0.8888888888888888,
              "#fdca26"
             ],
             [
              1,
              "#f0f921"
             ]
            ],
            "type": "histogram2dcontour"
           }
          ],
          "mesh3d": [
           {
            "colorbar": {
             "outlinewidth": 0,
             "ticks": ""
            },
            "type": "mesh3d"
           }
          ],
          "parcoords": [
           {
            "line": {
             "colorbar": {
              "outlinewidth": 0,
              "ticks": ""
             }
            },
            "type": "parcoords"
           }
          ],
          "pie": [
           {
            "automargin": true,
            "type": "pie"
           }
          ],
          "scatter": [
           {
            "fillpattern": {
             "fillmode": "overlay",
             "size": 10,
             "solidity": 0.2
            },
            "type": "scatter"
           }
          ],
          "scatter3d": [
           {
            "line": {
             "colorbar": {
              "outlinewidth": 0,
              "ticks": ""
             }
            },
            "marker": {
             "colorbar": {
              "outlinewidth": 0,
              "ticks": ""
             }
            },
            "type": "scatter3d"
           }
          ],
          "scattercarpet": [
           {
            "marker": {
             "colorbar": {
              "outlinewidth": 0,
              "ticks": ""
             }
            },
            "type": "scattercarpet"
           }
          ],
          "scattergeo": [
           {
            "marker": {
             "colorbar": {
              "outlinewidth": 0,
              "ticks": ""
             }
            },
            "type": "scattergeo"
           }
          ],
          "scattergl": [
           {
            "marker": {
             "colorbar": {
              "outlinewidth": 0,
              "ticks": ""
             }
            },
            "type": "scattergl"
           }
          ],
          "scattermapbox": [
           {
            "marker": {
             "colorbar": {
              "outlinewidth": 0,
              "ticks": ""
             }
            },
            "type": "scattermapbox"
           }
          ],
          "scatterpolar": [
           {
            "marker": {
             "colorbar": {
              "outlinewidth": 0,
              "ticks": ""
             }
            },
            "type": "scatterpolar"
           }
          ],
          "scatterpolargl": [
           {
            "marker": {
             "colorbar": {
              "outlinewidth": 0,
              "ticks": ""
             }
            },
            "type": "scatterpolargl"
           }
          ],
          "scatterternary": [
           {
            "marker": {
             "colorbar": {
              "outlinewidth": 0,
              "ticks": ""
             }
            },
            "type": "scatterternary"
           }
          ],
          "surface": [
           {
            "colorbar": {
             "outlinewidth": 0,
             "ticks": ""
            },
            "colorscale": [
             [
              0,
              "#0d0887"
             ],
             [
              0.1111111111111111,
              "#46039f"
             ],
             [
              0.2222222222222222,
              "#7201a8"
             ],
             [
              0.3333333333333333,
              "#9c179e"
             ],
             [
              0.4444444444444444,
              "#bd3786"
             ],
             [
              0.5555555555555556,
              "#d8576b"
             ],
             [
              0.6666666666666666,
              "#ed7953"
             ],
             [
              0.7777777777777778,
              "#fb9f3a"
             ],
             [
              0.8888888888888888,
              "#fdca26"
             ],
             [
              1,
              "#f0f921"
             ]
            ],
            "type": "surface"
           }
          ],
          "table": [
           {
            "cells": {
             "fill": {
              "color": "#EBF0F8"
             },
             "line": {
              "color": "white"
             }
            },
            "header": {
             "fill": {
              "color": "#C8D4E3"
             },
             "line": {
              "color": "white"
             }
            },
            "type": "table"
           }
          ]
         },
         "layout": {
          "annotationdefaults": {
           "arrowcolor": "#2a3f5f",
           "arrowhead": 0,
           "arrowwidth": 1
          },
          "autotypenumbers": "strict",
          "coloraxis": {
           "colorbar": {
            "outlinewidth": 0,
            "ticks": ""
           }
          },
          "colorscale": {
           "diverging": [
            [
             0,
             "#8e0152"
            ],
            [
             0.1,
             "#c51b7d"
            ],
            [
             0.2,
             "#de77ae"
            ],
            [
             0.3,
             "#f1b6da"
            ],
            [
             0.4,
             "#fde0ef"
            ],
            [
             0.5,
             "#f7f7f7"
            ],
            [
             0.6,
             "#e6f5d0"
            ],
            [
             0.7,
             "#b8e186"
            ],
            [
             0.8,
             "#7fbc41"
            ],
            [
             0.9,
             "#4d9221"
            ],
            [
             1,
             "#276419"
            ]
           ],
           "sequential": [
            [
             0,
             "#0d0887"
            ],
            [
             0.1111111111111111,
             "#46039f"
            ],
            [
             0.2222222222222222,
             "#7201a8"
            ],
            [
             0.3333333333333333,
             "#9c179e"
            ],
            [
             0.4444444444444444,
             "#bd3786"
            ],
            [
             0.5555555555555556,
             "#d8576b"
            ],
            [
             0.6666666666666666,
             "#ed7953"
            ],
            [
             0.7777777777777778,
             "#fb9f3a"
            ],
            [
             0.8888888888888888,
             "#fdca26"
            ],
            [
             1,
             "#f0f921"
            ]
           ],
           "sequentialminus": [
            [
             0,
             "#0d0887"
            ],
            [
             0.1111111111111111,
             "#46039f"
            ],
            [
             0.2222222222222222,
             "#7201a8"
            ],
            [
             0.3333333333333333,
             "#9c179e"
            ],
            [
             0.4444444444444444,
             "#bd3786"
            ],
            [
             0.5555555555555556,
             "#d8576b"
            ],
            [
             0.6666666666666666,
             "#ed7953"
            ],
            [
             0.7777777777777778,
             "#fb9f3a"
            ],
            [
             0.8888888888888888,
             "#fdca26"
            ],
            [
             1,
             "#f0f921"
            ]
           ]
          },
          "colorway": [
           "#636efa",
           "#EF553B",
           "#00cc96",
           "#ab63fa",
           "#FFA15A",
           "#19d3f3",
           "#FF6692",
           "#B6E880",
           "#FF97FF",
           "#FECB52"
          ],
          "font": {
           "color": "#2a3f5f"
          },
          "geo": {
           "bgcolor": "white",
           "lakecolor": "white",
           "landcolor": "#E5ECF6",
           "showlakes": true,
           "showland": true,
           "subunitcolor": "white"
          },
          "hoverlabel": {
           "align": "left"
          },
          "hovermode": "closest",
          "mapbox": {
           "style": "light"
          },
          "paper_bgcolor": "white",
          "plot_bgcolor": "#E5ECF6",
          "polar": {
           "angularaxis": {
            "gridcolor": "white",
            "linecolor": "white",
            "ticks": ""
           },
           "bgcolor": "#E5ECF6",
           "radialaxis": {
            "gridcolor": "white",
            "linecolor": "white",
            "ticks": ""
           }
          },
          "scene": {
           "xaxis": {
            "backgroundcolor": "#E5ECF6",
            "gridcolor": "white",
            "gridwidth": 2,
            "linecolor": "white",
            "showbackground": true,
            "ticks": "",
            "zerolinecolor": "white"
           },
           "yaxis": {
            "backgroundcolor": "#E5ECF6",
            "gridcolor": "white",
            "gridwidth": 2,
            "linecolor": "white",
            "showbackground": true,
            "ticks": "",
            "zerolinecolor": "white"
           },
           "zaxis": {
            "backgroundcolor": "#E5ECF6",
            "gridcolor": "white",
            "gridwidth": 2,
            "linecolor": "white",
            "showbackground": true,
            "ticks": "",
            "zerolinecolor": "white"
           }
          },
          "shapedefaults": {
           "line": {
            "color": "#2a3f5f"
           }
          },
          "ternary": {
           "aaxis": {
            "gridcolor": "white",
            "linecolor": "white",
            "ticks": ""
           },
           "baxis": {
            "gridcolor": "white",
            "linecolor": "white",
            "ticks": ""
           },
           "bgcolor": "#E5ECF6",
           "caxis": {
            "gridcolor": "white",
            "linecolor": "white",
            "ticks": ""
           }
          },
          "title": {
           "x": 0.05
          },
          "xaxis": {
           "automargin": true,
           "gridcolor": "white",
           "linecolor": "white",
           "ticks": "",
           "title": {
            "standoff": 15
           },
           "zerolinecolor": "white",
           "zerolinewidth": 2
          },
          "yaxis": {
           "automargin": true,
           "gridcolor": "white",
           "linecolor": "white",
           "ticks": "",
           "title": {
            "standoff": 15
           },
           "zerolinecolor": "white",
           "zerolinewidth": 2
          }
         }
        },
        "title": {
         "text": "Top 10 Estados con Mayor Adopción de Cultivos Transgénicos"
        },
        "xaxis": {
         "anchor": "y",
         "domain": [
          0,
          1
         ],
         "title": {
          "text": "Estado"
         }
        },
        "yaxis": {
         "anchor": "x",
         "domain": [
          0,
          1
         ],
         "title": {
          "text": "Adopción Promedio (%)"
         }
        }
       }
      }
     },
     "metadata": {},
     "output_type": "display_data"
    }
   ],
   "source": [
    "# Gráfico de barras de los estados con mayor adopción promedio\n",
    "\n",
    "# se agrupan los 10 estados con mayor porcentaje de cultivos trangénicos\n",
    "top_states = df_all_ge.groupby('state')['pct_(%)'].mean().nlargest(10).reset_index()\n",
    "\n",
    "\n",
    "fig4 = px.bar(top_states, x='state', y='pct_(%)', \n",
    "             title='Top 10 Estados con Mayor Adopción de Cultivos Transgénicos', \n",
    "             labels={'state': 'Estado', 'pct_(%)': 'Adopción Promedio (%)'},\n",
    "             color_discrete_sequence=['darkcyan'])\n",
    "\n",
    "fig4.update_layout(xaxis_title='Estado', yaxis_title='Adopción Promedio (%)')\n",
    "\n",
    "fig4.show()"
   ]
  },
  {
   "cell_type": "markdown",
   "metadata": {},
   "source": [
    "<div style=\"background-color: lightyellow; padding: 10px;\">\n",
    "\n",
    "<span style=\"color: darkblue;\">  \n",
    "    \n",
    "**Observaciones:**  \n",
    "North Dakota es el estado con más cultivos de maíz, algodón y soya transgénicos sembrados con un 86.3 %, seguido de Mississippi, Arkansas, South Dakota, Nebraska, Kansas, Iowa, Minnesota, Missouri e Illinois; alrededor del 40 % fueron trangénicos.\n",
    "    \n",
    "</span>\n",
    "    \n",
    "</div>"
   ]
  },
  {
   "cell_type": "code",
   "execution_count": 74,
   "metadata": {},
   "outputs": [
    {
     "data": {
      "image/png": "[encoded data removed]",
      "text/plain": [
       "<Figure size 1200x600 with 1 Axes>"
      ]
     },
     "metadata": {},
     "output_type": "display_data"
    }
   ],
   "source": [
    "# Gráfico de líneas para mostrar adopción por cultivo a lo largo de los años\n",
    "plt.figure(figsize=(12, 6))\n",
    "\n",
    "fig5 = sns.lineplot(data= df_all_ge,\n",
    "                    x='year', \n",
    "                    y='pct_(%)', \n",
    "                    hue= 'crop',  \n",
    "                    palette='viridis', \n",
    "                    errorbar= None\n",
    "                    )\n",
    "fig5.set_title('Adopción de Cultivos Transgénicos por Año y Tipo de Cultivo')\n",
    "fig5.set_xlabel('Año')\n",
    "fig5.set_ylabel('Adopción (%)')\n",
    "\n",
    "plt.legend(title='Cultivo')\n",
    "plt.grid(False)\n",
    "plt.show()"
   ]
  },
  {
   "cell_type": "markdown",
   "metadata": {},
   "source": [
    "<div style=\"background-color: lightyellow; padding: 10px;\">\n",
    "\n",
    "<span style=\"color: darkblue;\">  \n",
    "    \n",
    "**Observaciones:**  \n",
    "Se observa en el gráfico que el cultivo trangénico que más se emplea es la soya, desde que se inicia con el registro de estos cultivos en el 2000 el porcentaje de la soya transgénica empleada es mucho mayor que el porcentaje del maíz y el algodón. Aproximadamente el 60 % de la soya en el 2000 fue trangénica y para el 2023 aumentó alrdedor al 90 %.\n",
    "\n",
    "Ahora se analiza el tipo de modificación genética empleda para cada cultivo.\n",
    "    \n",
    "</span>\n",
    "    \n",
    "</div>"
   ]
  },
  {
   "cell_type": "code",
   "execution_count": 86,
   "metadata": {},
   "outputs": [
    {
     "data": {
      "image/png": "[encoded data removed]",
      "text/plain": [
       "<Figure size 1200x600 with 1 Axes>"
      ]
     },
     "metadata": {},
     "output_type": "display_data"
    }
   ],
   "source": [
    "plt.figure(figsize=(12, 6))\n",
    "\n",
    "fig6 = sns.barplot(df_all_ge, \n",
    "            x=\"crop\", \n",
    "            y=\"pct_(%)\", \n",
    "            hue=\"variety\", \n",
    "            palette='viridis'\n",
    "            )\n",
    "\n",
    "fig6.set_title('Adopción de Cultivos Transgénicos por Cultivo y Tipo de Modificación Genética')\n",
    "fig6.set_xlabel('Cultivo')\n",
    "fig6.set_ylabel('Porcentaje Sembrado')\n",
    "\n",
    "plt.legend(title='Tipo de Modificación Genética')\n",
    "# plt.grid(False)\n",
    "plt.show()"
   ]
  },
  {
   "cell_type": "markdown",
   "metadata": {},
   "source": [
    "<div style=\"background-color: lightyellow; padding: 10px;\">\n",
    "\n",
    "<span style=\"color: darkblue;\">  \n",
    "    \n",
    "**Observaciones:**  \n",
    "El tipo de modificación genética más empleada en cultivos de soya son los tolerantes a herbicidas, mientras que, para el maíz y el algodón son las variedades combinadas (Stacked gene varieties), que son resistentes a insectos y a herbicidas. \n",
    "    \n",
    "</span>\n",
    "    \n",
    "</div>"
   ]
  },
  {
   "cell_type": "code",
   "execution_count": 75,
   "metadata": {},
   "outputs": [
    {
     "name": "stdout",
     "output_type": "stream",
     "text": [
      "<class 'pandas.core.frame.DataFrame'>\n",
      "Index: 2328 entries, 0 to 2975\n",
      "Data columns (total 5 columns):\n",
      " #   Column   Non-Null Count  Dtype         \n",
      "---  ------   --------------  -----         \n",
      " 0   variety  2328 non-null   object        \n",
      " 1   state    2328 non-null   object        \n",
      " 2   year     2328 non-null   datetime64[ns]\n",
      " 3   pct_(%)  2253 non-null   float64       \n",
      " 4   crop     2328 non-null   object        \n",
      "dtypes: datetime64[ns](1), float64(1), object(3)\n",
      "memory usage: 173.7+ KB\n"
     ]
    }
   ],
   "source": [
    "df_all_ge.info()"
   ]
  },
  {
   "cell_type": "code",
   "execution_count": 89,
   "metadata": {},
   "outputs": [
    {
     "data": {
      "text/html": [
       "<div>\n",
       "<style scoped>\n",
       "    .dataframe tbody tr th:only-of-type {\n",
       "        vertical-align: middle;\n",
       "    }\n",
       "\n",
       "    .dataframe tbody tr th {\n",
       "        vertical-align: top;\n",
       "    }\n",
       "\n",
       "    .dataframe thead th {\n",
       "        text-align: right;\n",
       "    }\n",
       "</style>\n",
       "<table border=\"1\" class=\"dataframe\">\n",
       "  <thead>\n",
       "    <tr style=\"text-align: right;\">\n",
       "      <th></th>\n",
       "      <th>variety</th>\n",
       "      <th>state</th>\n",
       "      <th>year</th>\n",
       "      <th>pct_(%)</th>\n",
       "      <th>crop</th>\n",
       "    </tr>\n",
       "  </thead>\n",
       "  <tbody>\n",
       "    <tr>\n",
       "      <th>0</th>\n",
       "      <td>Insect-resistant (Bt)</td>\n",
       "      <td>Illinois</td>\n",
       "      <td>2000-01-01</td>\n",
       "      <td>13.0</td>\n",
       "      <td>corn</td>\n",
       "    </tr>\n",
       "    <tr>\n",
       "      <th>1</th>\n",
       "      <td>Insect-resistant (Bt)</td>\n",
       "      <td>Illinois</td>\n",
       "      <td>2001-01-01</td>\n",
       "      <td>12.0</td>\n",
       "      <td>corn</td>\n",
       "    </tr>\n",
       "    <tr>\n",
       "      <th>2</th>\n",
       "      <td>Insect-resistant (Bt)</td>\n",
       "      <td>Illinois</td>\n",
       "      <td>2002-01-01</td>\n",
       "      <td>18.0</td>\n",
       "      <td>corn</td>\n",
       "    </tr>\n",
       "    <tr>\n",
       "      <th>3</th>\n",
       "      <td>Insect-resistant (Bt)</td>\n",
       "      <td>Illinois</td>\n",
       "      <td>2003-01-01</td>\n",
       "      <td>23.0</td>\n",
       "      <td>corn</td>\n",
       "    </tr>\n",
       "    <tr>\n",
       "      <th>4</th>\n",
       "      <td>Insect-resistant (Bt)</td>\n",
       "      <td>Illinois</td>\n",
       "      <td>2004-01-01</td>\n",
       "      <td>26.0</td>\n",
       "      <td>corn</td>\n",
       "    </tr>\n",
       "  </tbody>\n",
       "</table>\n",
       "</div>"
      ],
      "text/plain": [
       "                 variety     state       year  pct_(%)  crop\n",
       "0  Insect-resistant (Bt)  Illinois 2000-01-01     13.0  corn\n",
       "1  Insect-resistant (Bt)  Illinois 2001-01-01     12.0  corn\n",
       "2  Insect-resistant (Bt)  Illinois 2002-01-01     18.0  corn\n",
       "3  Insect-resistant (Bt)  Illinois 2003-01-01     23.0  corn\n",
       "4  Insect-resistant (Bt)  Illinois 2004-01-01     26.0  corn"
      ]
     },
     "execution_count": 89,
     "metadata": {},
     "output_type": "execute_result"
    }
   ],
   "source": [
    "# se filtra sólo para el maíz sembrado\n",
    "df_corn = df_all_ge[df_all_ge[\"crop\"] == \"corn\"]\n",
    "df_corn.head()"
   ]
  },
  {
   "cell_type": "code",
   "execution_count": 90,
   "metadata": {},
   "outputs": [
    {
     "data": {
      "image/png": "[encoded data removed]",
      "text/plain": [
       "<Figure size 1200x600 with 1 Axes>"
      ]
     },
     "metadata": {},
     "output_type": "display_data"
    }
   ],
   "source": [
    "# Gráfico de líneas para mostrar la adopción de los tipos de modificación genética para el maíz a lo largo de los años\n",
    "plt.figure(figsize=(12, 6))\n",
    "\n",
    "fig7 = sns.lineplot(data= df_corn,\n",
    "                    x='year', \n",
    "                    y='pct_(%)', \n",
    "                    hue= 'variety',  \n",
    "                    palette='viridis', \n",
    "                    errorbar= None\n",
    "                    )\n",
    "fig7.set_title('Adopción de Maíz Transgénico por Año')\n",
    "fig7.set_xlabel('Año')\n",
    "fig7.set_ylabel('Porcetaje Sembrado')\n",
    "\n",
    "plt.legend(title= 'Tipo de Modificación Genética')\n",
    "plt.grid(False)\n",
    "plt.show()"
   ]
  },
  {
   "cell_type": "markdown",
   "metadata": {},
   "source": [
    "<div style=\"background-color: lightyellow; padding: 10px;\">\n",
    "\n",
    "<span style=\"color: darkblue;\">  \n",
    "    \n",
    "**Observaciones:**  \n",
    "A partir del 2004 los cultivos de maíz resistentes a insectos y herbicidas aumentó su uso del 5 % al 80 % aproximadamente para el 2023.\n",
    "    \n",
    "</span>\n",
    "    \n",
    "</div>"
   ]
  },
  {
   "cell_type": "code",
   "execution_count": 91,
   "metadata": {},
   "outputs": [
    {
     "data": {
      "text/html": [
       "<div>\n",
       "<style scoped>\n",
       "    .dataframe tbody tr th:only-of-type {\n",
       "        vertical-align: middle;\n",
       "    }\n",
       "\n",
       "    .dataframe tbody tr th {\n",
       "        vertical-align: top;\n",
       "    }\n",
       "\n",
       "    .dataframe thead th {\n",
       "        text-align: right;\n",
       "    }\n",
       "</style>\n",
       "<table border=\"1\" class=\"dataframe\">\n",
       "  <thead>\n",
       "    <tr style=\"text-align: right;\">\n",
       "      <th></th>\n",
       "      <th>variety</th>\n",
       "      <th>state</th>\n",
       "      <th>year</th>\n",
       "      <th>pct_(%)</th>\n",
       "      <th>crop</th>\n",
       "    </tr>\n",
       "  </thead>\n",
       "  <tbody>\n",
       "    <tr>\n",
       "      <th>1440</th>\n",
       "      <td>Insect-resistant (Bt)</td>\n",
       "      <td>Alabama 2/</td>\n",
       "      <td>2000-01-01</td>\n",
       "      <td>NaN</td>\n",
       "      <td>cotton</td>\n",
       "    </tr>\n",
       "    <tr>\n",
       "      <th>1441</th>\n",
       "      <td>Insect-resistant (Bt)</td>\n",
       "      <td>Alabama 2/</td>\n",
       "      <td>2001-01-01</td>\n",
       "      <td>NaN</td>\n",
       "      <td>cotton</td>\n",
       "    </tr>\n",
       "    <tr>\n",
       "      <th>1442</th>\n",
       "      <td>Insect-resistant (Bt)</td>\n",
       "      <td>Alabama 2/</td>\n",
       "      <td>2002-01-01</td>\n",
       "      <td>NaN</td>\n",
       "      <td>cotton</td>\n",
       "    </tr>\n",
       "    <tr>\n",
       "      <th>1443</th>\n",
       "      <td>Insect-resistant (Bt)</td>\n",
       "      <td>Alabama 2/</td>\n",
       "      <td>2003-01-01</td>\n",
       "      <td>NaN</td>\n",
       "      <td>cotton</td>\n",
       "    </tr>\n",
       "    <tr>\n",
       "      <th>1444</th>\n",
       "      <td>Insect-resistant (Bt)</td>\n",
       "      <td>Alabama 2/</td>\n",
       "      <td>2004-01-01</td>\n",
       "      <td>NaN</td>\n",
       "      <td>cotton</td>\n",
       "    </tr>\n",
       "  </tbody>\n",
       "</table>\n",
       "</div>"
      ],
      "text/plain": [
       "                    variety       state       year  pct_(%)    crop\n",
       "1440  Insect-resistant (Bt)  Alabama 2/ 2000-01-01      NaN  cotton\n",
       "1441  Insect-resistant (Bt)  Alabama 2/ 2001-01-01      NaN  cotton\n",
       "1442  Insect-resistant (Bt)  Alabama 2/ 2002-01-01      NaN  cotton\n",
       "1443  Insect-resistant (Bt)  Alabama 2/ 2003-01-01      NaN  cotton\n",
       "1444  Insect-resistant (Bt)  Alabama 2/ 2004-01-01      NaN  cotton"
      ]
     },
     "execution_count": 91,
     "metadata": {},
     "output_type": "execute_result"
    }
   ],
   "source": [
    "# se filtra sólo para el algodón sembrado\n",
    "df_cotton = df_all_ge[df_all_ge[\"crop\"] == \"cotton\"]\n",
    "df_cotton.head()"
   ]
  },
  {
   "cell_type": "code",
   "execution_count": 92,
   "metadata": {},
   "outputs": [
    {
     "data": {
      "image/png": "[encoded data removed]",
      "text/plain": [
       "<Figure size 1200x600 with 1 Axes>"
      ]
     },
     "metadata": {},
     "output_type": "display_data"
    }
   ],
   "source": [
    "# Gráfico de líneas para mostrar la adopción de los tipos de modificación genética para el algodón a lo largo de los años\n",
    "plt.figure(figsize=(12, 6))\n",
    "\n",
    "fig8 = sns.lineplot(data= df_cotton,\n",
    "                    x='year', \n",
    "                    y='pct_(%)', \n",
    "                    hue= 'variety',  \n",
    "                    palette='viridis', \n",
    "                    errorbar= None\n",
    "                    )\n",
    "fig8.set_title('Adopción de Algodón Transgénico por Año')\n",
    "fig8.set_xlabel('Año')\n",
    "fig8.set_ylabel('Porcetaje Sembrado')\n",
    "\n",
    "plt.legend(title= 'Tipo de Modificación Genética')\n",
    "plt.grid(False)\n",
    "plt.show()"
   ]
  },
  {
   "cell_type": "markdown",
   "metadata": {},
   "source": [
    "<div style=\"background-color: lightyellow; padding: 10px;\">\n",
    "\n",
    "<span style=\"color: darkblue;\">  \n",
    "    \n",
    "**Observaciones:**  \n",
    "A partir del 2001 la adopción de cultivos de algodón resistentes a insectos y herbicidas aumentó su uso del 22 % al 80 % aproximadamente para el 2023.\n",
    "    \n",
    "</span>\n",
    "    \n",
    "</div>"
   ]
  },
  {
   "cell_type": "code",
   "execution_count": 93,
   "metadata": {},
   "outputs": [
    {
     "data": {
      "text/html": [
       "<div>\n",
       "<style scoped>\n",
       "    .dataframe tbody tr th:only-of-type {\n",
       "        vertical-align: middle;\n",
       "    }\n",
       "\n",
       "    .dataframe tbody tr th {\n",
       "        vertical-align: top;\n",
       "    }\n",
       "\n",
       "    .dataframe thead th {\n",
       "        text-align: right;\n",
       "    }\n",
       "</style>\n",
       "<table border=\"1\" class=\"dataframe\">\n",
       "  <thead>\n",
       "    <tr style=\"text-align: right;\">\n",
       "      <th></th>\n",
       "      <th>variety</th>\n",
       "      <th>state</th>\n",
       "      <th>year</th>\n",
       "      <th>pct_(%)</th>\n",
       "      <th>crop</th>\n",
       "    </tr>\n",
       "  </thead>\n",
       "  <tbody>\n",
       "    <tr>\n",
       "      <th>2592</th>\n",
       "      <td>Herbicide-tolerant (HT)</td>\n",
       "      <td>Arkansas</td>\n",
       "      <td>2000-01-01</td>\n",
       "      <td>43.0</td>\n",
       "      <td>soybean</td>\n",
       "    </tr>\n",
       "    <tr>\n",
       "      <th>2593</th>\n",
       "      <td>Herbicide-tolerant (HT)</td>\n",
       "      <td>Arkansas</td>\n",
       "      <td>2001-01-01</td>\n",
       "      <td>60.0</td>\n",
       "      <td>soybean</td>\n",
       "    </tr>\n",
       "    <tr>\n",
       "      <th>2594</th>\n",
       "      <td>Herbicide-tolerant (HT)</td>\n",
       "      <td>Arkansas</td>\n",
       "      <td>2002-01-01</td>\n",
       "      <td>68.0</td>\n",
       "      <td>soybean</td>\n",
       "    </tr>\n",
       "    <tr>\n",
       "      <th>2595</th>\n",
       "      <td>Herbicide-tolerant (HT)</td>\n",
       "      <td>Arkansas</td>\n",
       "      <td>2003-01-01</td>\n",
       "      <td>84.0</td>\n",
       "      <td>soybean</td>\n",
       "    </tr>\n",
       "    <tr>\n",
       "      <th>2596</th>\n",
       "      <td>Herbicide-tolerant (HT)</td>\n",
       "      <td>Arkansas</td>\n",
       "      <td>2004-01-01</td>\n",
       "      <td>92.0</td>\n",
       "      <td>soybean</td>\n",
       "    </tr>\n",
       "  </tbody>\n",
       "</table>\n",
       "</div>"
      ],
      "text/plain": [
       "                      variety     state       year  pct_(%)     crop\n",
       "2592  Herbicide-tolerant (HT)  Arkansas 2000-01-01     43.0  soybean\n",
       "2593  Herbicide-tolerant (HT)  Arkansas 2001-01-01     60.0  soybean\n",
       "2594  Herbicide-tolerant (HT)  Arkansas 2002-01-01     68.0  soybean\n",
       "2595  Herbicide-tolerant (HT)  Arkansas 2003-01-01     84.0  soybean\n",
       "2596  Herbicide-tolerant (HT)  Arkansas 2004-01-01     92.0  soybean"
      ]
     },
     "execution_count": 93,
     "metadata": {},
     "output_type": "execute_result"
    }
   ],
   "source": [
    "# se filtra sólo para el algodón sembrado\n",
    "df_soy = df_all_ge[df_all_ge[\"crop\"] == \"soybean\"]\n",
    "df_soy.head()"
   ]
  },
  {
   "cell_type": "code",
   "execution_count": 96,
   "metadata": {},
   "outputs": [
    {
     "data": {
      "image/png": "[encoded data removed]",
      "text/plain": [
       "<Figure size 1200x600 with 1 Axes>"
      ]
     },
     "metadata": {},
     "output_type": "display_data"
    }
   ],
   "source": [
    "# Gráfico de líneas para mostrar la adopción de los tipos de modificación genética para la soya a lo largo de los años\n",
    "plt.figure(figsize=(12, 6))\n",
    "\n",
    "fig9 = sns.lineplot(data= df_soy,\n",
    "                    x='year', \n",
    "                    y='pct_(%)', \n",
    "                    hue= 'variety',  \n",
    "                    palette='viridis', \n",
    "                    errorbar= None\n",
    "                    )\n",
    "fig9.set_title('Adopción de Soya Transgénica por Año')\n",
    "fig9.set_xlabel('Año')\n",
    "fig9.set_ylabel('Porcetaje Sembrado')\n",
    "\n",
    "plt.legend(title= 'Tipo de Modificación Genética')\n",
    "plt.grid(False)\n",
    "plt.show()"
   ]
  },
  {
   "cell_type": "markdown",
   "metadata": {},
   "source": [
    "<div style=\"background-color: lightyellow; padding: 10px;\">\n",
    "\n",
    "<span style=\"color: darkblue;\">  \n",
    "\n",
    "**Observaciones:**  \n",
    "En el 2000 el uso de soya transgénica era mayor del 50 % y continuo aumentando, siendo el 95 % transgénica aproximadamente para el 2023. El tipo de modificación empleada es la resistente a herbicidas\n",
    "\n",
    "</span>\n",
    "\n",
    "</div>"
   ]
  },
  {
   "cell_type": "markdown",
   "metadata": {},
   "source": [
    "<div style=\"background-color: lightyellow; padding: 10px;\">\n",
    "\n",
    "<span style=\"color: darkblue;\"> \n",
    "\n",
    "# **Conclusiones**\n",
    "\n",
    "Hay una clara tendencia hacia el aumento en el uso de cultivos transgénicos desde el año 2000 hasta el 2023. En particular, el uso de maíz y algodón genéticamente modificados ha aumentado significativamente, aunque aún representan menos del 50 % del total sembrado. Por otro lado, la soya ha experimentado una adopción masiva de transgénicos, alcanzando aproximadamente el 88.8 % en promedio para el período mencionado.\n",
    "\n",
    "North Dakota lidera en la siembra de maíz, algodón y soya transgénicos, seguido por otros estados como Mississippi, Arkansas, y varios más en la región central de Estados Unidos. Estos estados muestran una adopción cercana al 40 % en promedio de cultivos transgénicos.\n",
    "\n",
    "Para soya, la modificación más común es la resistencia a herbicidas, mientras que en maíz y algodón predominan las variedades combinadas, que ofrecen resistencia tanto a insectos como a herbicidas.\n",
    "\n",
    "Se observa un aumento significativo en el uso de variedades de maíz y algodón resistentes a insectos y herbicidas desde principios de los años 2000 hasta el 2023, indicando una preferencia creciente por estas variedades por su eficacia en el control de plagas y malezas.\n",
    "\n",
    "En resumen, el análisis muestra una tendencia clara hacia una mayor adopción de cultivos transgénicos en Estados Unidos, especialmente notable en la soya, seguida por maíz y algodón. Esta adopción se ve impulsada por los beneficios agronómicos que ofrecen las variedades transgénicas, como la resistencia a herbicidas e insectos, adaptándose a las necesidades de productividad y manejo de cultivos en la agricultura moderna.\n",
    "\n",
    "</span>\n",
    "\n",
    "</div>"
   ]
  },
  {
   "cell_type": "code",
   "execution_count": null,
   "metadata": {},
   "outputs": [],
   "source": []
  },
  {
   "cell_type": "code",
   "execution_count": null,
   "metadata": {},
   "outputs": [],
   "source": []
  }
 ],
 "metadata": {
  "kernelspec": {
   "display_name": "Python 3",
   "language": "python",
   "name": "python3"
  },
  "language_info": {
   "codemirror_mode": {
    "name": "ipython",
    "version": 3
   },
   "file_extension": ".py",
   "mimetype": "text/x-python",
   "name": "python",
   "nbconvert_exporter": "python",
   "pygments_lexer": "ipython3",
   "version": "3.12.4"
  }
 },
 "nbformat": 4,
 "nbformat_minor": 2
}
